{
 "cells": [
  {
   "cell_type": "code",
   "execution_count": 1,
   "id": "1a76d62d",
   "metadata": {},
   "outputs": [],
   "source": [
    "%matplotlib inline\n",
    "import numpy as np\n",
    "import pandas as pd\n",
    "from sklearn import preprocessing, metrics, model_selection\n",
    "\n",
    "import time\n",
    "#from matplotlib import pyplot as plt\n",
    "from matplotlib import pylab as plt\n",
    "from IPython import display\n",
    "\n",
    "from Funciones import evaluar, evaluarDerivada"
   ]
  },
  {
   "cell_type": "code",
   "execution_count": 2,
   "id": "baec3e63",
   "metadata": {},
   "outputs": [
    {
     "data": {
      "text/html": [
       "<div>\n",
       "<style scoped>\n",
       "    .dataframe tbody tr th:only-of-type {\n",
       "        vertical-align: middle;\n",
       "    }\n",
       "\n",
       "    .dataframe tbody tr th {\n",
       "        vertical-align: top;\n",
       "    }\n",
       "\n",
       "    .dataframe thead th {\n",
       "        text-align: right;\n",
       "    }\n",
       "</style>\n",
       "<table border=\"1\" class=\"dataframe\">\n",
       "  <thead>\n",
       "    <tr style=\"text-align: right;\">\n",
       "      <th></th>\n",
       "      <th>sepallength</th>\n",
       "      <th>sepalwidth</th>\n",
       "      <th>petallength</th>\n",
       "      <th>petalwidth</th>\n",
       "      <th>class</th>\n",
       "    </tr>\n",
       "  </thead>\n",
       "  <tbody>\n",
       "    <tr>\n",
       "      <th>0</th>\n",
       "      <td>5.1</td>\n",
       "      <td>3.5</td>\n",
       "      <td>1.4</td>\n",
       "      <td>0.2</td>\n",
       "      <td>Iris-setosa</td>\n",
       "    </tr>\n",
       "    <tr>\n",
       "      <th>1</th>\n",
       "      <td>4.9</td>\n",
       "      <td>3.0</td>\n",
       "      <td>1.4</td>\n",
       "      <td>0.2</td>\n",
       "      <td>Iris-setosa</td>\n",
       "    </tr>\n",
       "    <tr>\n",
       "      <th>2</th>\n",
       "      <td>4.7</td>\n",
       "      <td>3.2</td>\n",
       "      <td>1.3</td>\n",
       "      <td>0.2</td>\n",
       "      <td>Iris-setosa</td>\n",
       "    </tr>\n",
       "    <tr>\n",
       "      <th>3</th>\n",
       "      <td>4.6</td>\n",
       "      <td>3.1</td>\n",
       "      <td>1.5</td>\n",
       "      <td>0.2</td>\n",
       "      <td>Iris-setosa</td>\n",
       "    </tr>\n",
       "    <tr>\n",
       "      <th>4</th>\n",
       "      <td>5.0</td>\n",
       "      <td>3.6</td>\n",
       "      <td>1.4</td>\n",
       "      <td>0.2</td>\n",
       "      <td>Iris-setosa</td>\n",
       "    </tr>\n",
       "    <tr>\n",
       "      <th>...</th>\n",
       "      <td>...</td>\n",
       "      <td>...</td>\n",
       "      <td>...</td>\n",
       "      <td>...</td>\n",
       "      <td>...</td>\n",
       "    </tr>\n",
       "    <tr>\n",
       "      <th>145</th>\n",
       "      <td>6.7</td>\n",
       "      <td>3.0</td>\n",
       "      <td>5.2</td>\n",
       "      <td>2.3</td>\n",
       "      <td>Iris-virginica</td>\n",
       "    </tr>\n",
       "    <tr>\n",
       "      <th>146</th>\n",
       "      <td>6.3</td>\n",
       "      <td>2.5</td>\n",
       "      <td>5.0</td>\n",
       "      <td>1.9</td>\n",
       "      <td>Iris-virginica</td>\n",
       "    </tr>\n",
       "    <tr>\n",
       "      <th>147</th>\n",
       "      <td>6.5</td>\n",
       "      <td>3.0</td>\n",
       "      <td>5.2</td>\n",
       "      <td>2.0</td>\n",
       "      <td>Iris-virginica</td>\n",
       "    </tr>\n",
       "    <tr>\n",
       "      <th>148</th>\n",
       "      <td>6.2</td>\n",
       "      <td>3.4</td>\n",
       "      <td>5.4</td>\n",
       "      <td>2.3</td>\n",
       "      <td>Iris-virginica</td>\n",
       "    </tr>\n",
       "    <tr>\n",
       "      <th>149</th>\n",
       "      <td>5.9</td>\n",
       "      <td>3.0</td>\n",
       "      <td>5.1</td>\n",
       "      <td>1.8</td>\n",
       "      <td>Iris-virginica</td>\n",
       "    </tr>\n",
       "  </tbody>\n",
       "</table>\n",
       "<p>150 rows × 5 columns</p>\n",
       "</div>"
      ],
      "text/plain": [
       "     sepallength  sepalwidth  petallength  petalwidth           class\n",
       "0            5.1         3.5          1.4         0.2     Iris-setosa\n",
       "1            4.9         3.0          1.4         0.2     Iris-setosa\n",
       "2            4.7         3.2          1.3         0.2     Iris-setosa\n",
       "3            4.6         3.1          1.5         0.2     Iris-setosa\n",
       "4            5.0         3.6          1.4         0.2     Iris-setosa\n",
       "..           ...         ...          ...         ...             ...\n",
       "145          6.7         3.0          5.2         2.3  Iris-virginica\n",
       "146          6.3         2.5          5.0         1.9  Iris-virginica\n",
       "147          6.5         3.0          5.2         2.0  Iris-virginica\n",
       "148          6.2         3.4          5.4         2.3  Iris-virginica\n",
       "149          5.9         3.0          5.1         1.8  Iris-virginica\n",
       "\n",
       "[150 rows x 5 columns]"
      ]
     },
     "execution_count": 2,
     "metadata": {},
     "output_type": "execute_result"
    }
   ],
   "source": [
    "df = pd.read_csv('../Datos/iris.csv')\n",
    "nomClases = pd.unique(df['class'])\n",
    "\n",
    "df"
   ]
  },
  {
   "cell_type": "code",
   "execution_count": 3,
   "id": "d291381e",
   "metadata": {},
   "outputs": [],
   "source": [
    "# Tomamos todas las columnas menos la última\n",
    "X = np.array(df.iloc[:, 0:-1])\n",
    "Y = np.array(df.iloc[:,-1])\n",
    "\n",
    "le = preprocessing.LabelEncoder()\n",
    "Y = le.fit_transform(Y)\n",
    "\n",
    "# creating instance of one-hot-encoder\n",
    "#enc = preprocessing.OneHotEncoder(handle_unknown='ignore')# passing bridge-types-cat column (label encoded values of bridge_types)\n",
    "#Y = enc.fit_transform(Y.reshape(-1,1)).toarray()\n"
   ]
  },
  {
   "cell_type": "code",
   "execution_count": 4,
   "id": "8acde5cf",
   "metadata": {},
   "outputs": [
    {
     "name": "stdout",
     "output_type": "stream",
     "text": [
      "entradas = 4 ; salidas = 3\n"
     ]
    }
   ],
   "source": [
    "entradas = X.shape[1]\n",
    "ocultas = 2\n",
    "\n",
    "#-- la red tendrá una salida para cada tipo de flor\n",
    "salidas = len(np.unique(Y))\n",
    "print(\"entradas = %d ; salidas = %d\" % (entradas, salidas))"
   ]
  },
  {
   "cell_type": "code",
   "execution_count": 5,
   "id": "2c3fa452",
   "metadata": {},
   "outputs": [],
   "source": [
    "#--- CONJUNTOS DE ENTRENAMIENTO Y TESTEO ---\n",
    "X_train, X_test, Y_train, Y_test = model_selection.train_test_split( \\\n",
    "        X,Y, test_size=0.30)#, random_state=42)\n",
    "\n",
    "normalizarEntrada = 1  # 1 si normaliza; 0 si no\n",
    "\n",
    "if normalizarEntrada:\n",
    "    # Escala los valores entre 0 y 1\n",
    "    min_max_scaler = preprocessing.StandardScaler()\n",
    "    X_train = min_max_scaler.fit_transform(X_train)\n",
    "    X_test = min_max_scaler.transform(X_test)\n",
    "    \n",
    "Y_trainB = np.zeros((len(Y_train), salidas))\n",
    "for o in range(len(Y_train)):\n",
    "    Y_trainB[o, Y_train[o]]=1    "
   ]
  },
  {
   "cell_type": "code",
   "execution_count": 6,
   "id": "b185ed5c",
   "metadata": {},
   "outputs": [],
   "source": [
    "W1 = np.random.uniform(-0.5,0.5,[ocultas, entradas])\n",
    "b1 = np.random.uniform(-0.5,0.5, [ocultas,1])\n",
    "W2 = np.random.uniform(-0.5,0.5,[salidas, ocultas])\n",
    "b2 = np.random.uniform(-0.5,0.5, [salidas,1])"
   ]
  },
  {
   "cell_type": "code",
   "execution_count": 7,
   "id": "077fab97",
   "metadata": {},
   "outputs": [],
   "source": [
    "FunH = 'sigmoid'\n",
    "FunO = 'tanh'\n",
    "\n",
    "if (FunO=='tanh'):\n",
    "    Y_trainB = 2*Y_trainB -1\n",
    "#    Y_testB  = 2*Y_testB - 1"
   ]
  },
  {
   "cell_type": "code",
   "execution_count": 8,
   "id": "f03168b8",
   "metadata": {},
   "outputs": [],
   "source": [
    "nFilas = X_train.shape[0]\n",
    "\n",
    "alfa = 0.1\n",
    "CotaError = 1.0e-4\n",
    "MAX_ITERA = 400\n",
    "ite = 0\n",
    "errorAnt = 0\n",
    "AVGError = 1\n",
    "errores = []\n",
    "ph=0\n",
    "while ( abs(AVGError-errorAnt) > CotaError ) and ( ite < MAX_ITERA ):\n",
    "    errorAnt = AVGError\n",
    "    AVGError = 0\n",
    "    for e in range(nFilas):  #para cada ejemplo\n",
    "\n",
    "        xi = X_train[e:e+1, :]     # ejemplo a ingresar a la red\n",
    "        yi = Y_trainB[e:e+1, :]     # salida esperada para el ejemplo seleccionado\n",
    "        \n",
    "        # propagar el ejemplo hacia adelante\n",
    "        netasH = W1 @ xi.T + b1\n",
    "        salidasH = evaluar(FunH, netasH)\n",
    "        netasO = W2 @ salidasH + b2\n",
    "        salidasO = evaluar(FunO, netasO)\n",
    "\n",
    "        # calcular los errores en ambas capas        \n",
    "        ErrorSalida = yi.T-salidasO\n",
    "        \n",
    "        deltaO = ErrorSalida * evaluarDerivada(FunO,salidasO)\n",
    "        deltaH = evaluarDerivada(FunH,salidasH)*(W2.T @ deltaO)\n",
    "\n",
    "        # corregir todos los pesos      \n",
    "        W1 = W1 + alfa * deltaH @ xi \n",
    "        b1 = b1 + alfa * deltaH \n",
    "        W2 = W2 + alfa * deltaO @ salidasH.T \n",
    "        b2 = b2 + alfa * deltaO \n",
    "\n",
    "        AVGError = AVGError + np.mean(ErrorSalida**2)\n",
    "    \n",
    "    AVGError = AVGError / nFilas\n",
    "    errores.append(AVGError)\n",
    "    \n",
    "    ite = ite + 1"
   ]
  },
  {
   "cell_type": "code",
   "execution_count": 9,
   "id": "5801b22a",
   "metadata": {},
   "outputs": [
    {
     "data": {
      "image/png": "[encoded data removed]",
      "text/plain": [
       "<Figure size 432x288 with 1 Axes>"
      ]
     },
     "metadata": {
      "needs_background": "light"
     },
     "output_type": "display_data"
    }
   ],
   "source": [
    "plt.plot(range(1, len(errores) + 1), errores, marker='o')\n",
    "plt.xlabel('Iteraciones')\n",
    "plt.ylabel('ECM')\n",
    "plt.show()"
   ]
  },
  {
   "cell_type": "code",
   "execution_count": 30,
   "id": "66af33d6",
   "metadata": {},
   "outputs": [
    {
     "data": {
      "text/plain": [
       "array([[ 0.95977323,  0.95389794, -0.99886124,  0.96056708,  0.96076758],\n",
       "       [-0.91855467, -0.90709279, -0.91539138, -0.92011014, -0.92050326],\n",
       "       [-0.99986901, -0.99986004,  0.95776811, -0.99987027, -0.99987059]])"
      ]
     },
     "execution_count": 30,
     "metadata": {},
     "output_type": "execute_result"
    }
   ],
   "source": [
    "# Respuesta de la red para los datos de ENTRENAMIENTO ---\n",
    "NetasH = W1 @ X_train.T + b1\n",
    "SalidasH = evaluar(FunH, NetasH)\n",
    "NetasO = W2 @ SalidasH + b2\n",
    "SalidasO = evaluar(FunO, NetasO)\n",
    "SalidasO[:, :5]"
   ]
  },
  {
   "cell_type": "code",
   "execution_count": 31,
   "id": "ddb40db5",
   "metadata": {},
   "outputs": [
    {
     "name": "stdout",
     "output_type": "stream",
     "text": [
      "% aciertos X_train : 0.990\n"
     ]
    }
   ],
   "source": [
    "Y_pred = np.argmax(SalidasO,axis=0)\n",
    "print(\"%% aciertos X_train : %.3f\" % metrics.accuracy_score(Y_train,Y_pred))"
   ]
  },
  {
   "cell_type": "code",
   "execution_count": 32,
   "id": "f2c10cb3",
   "metadata": {},
   "outputs": [
    {
     "name": "stdout",
     "output_type": "stream",
     "text": [
      "Confusion matrix Training:\n",
      "              precision    recall  f1-score   support\n",
      "\n",
      "           0       1.00      1.00      1.00        30\n",
      "           1       1.00      0.97      0.99        36\n",
      "           2       0.97      1.00      0.99        39\n",
      "\n",
      "    accuracy                           0.99       105\n",
      "   macro avg       0.99      0.99      0.99       105\n",
      "weighted avg       0.99      0.99      0.99       105\n",
      "\n"
     ]
    }
   ],
   "source": [
    "report = metrics.classification_report(Y_train,Y_pred)\n",
    "print(\"Confusion matrix Training:\\n%s\" % report) "
   ]
  },
  {
   "cell_type": "code",
   "execution_count": 33,
   "id": "927b150a",
   "metadata": {},
   "outputs": [
    {
     "name": "stdout",
     "output_type": "stream",
     "text": [
      "Confusion matrix:\n",
      "[[30  0  0]\n",
      " [ 0 35  1]\n",
      " [ 0  0 39]]\n"
     ]
    }
   ],
   "source": [
    "MM = metrics.confusion_matrix(Y_train,Y_pred)\n",
    "print(\"Confusion matrix:\\n%s\" % MM)"
   ]
  },
  {
   "cell_type": "code",
   "execution_count": 34,
   "id": "cbc7cd9a",
   "metadata": {},
   "outputs": [
    {
     "name": "stdout",
     "output_type": "stream",
     "text": [
      "% aciertos X_test : 0.978\n",
      "\n",
      "Confusion matrix Test:\n",
      "                 precision    recall  f1-score   support\n",
      "\n",
      "    Iris-setosa       1.00      1.00      1.00        20\n",
      "Iris-versicolor       0.93      1.00      0.97        14\n",
      " Iris-virginica       1.00      0.91      0.95        11\n",
      "\n",
      "       accuracy                           0.98        45\n",
      "      macro avg       0.98      0.97      0.97        45\n",
      "   weighted avg       0.98      0.98      0.98        45\n",
      "\n",
      "Confusion matrix:\n",
      "[[20  0  0]\n",
      " [ 0 14  0]\n",
      " [ 0  1 10]]\n"
     ]
    }
   ],
   "source": [
    "# -- TESTING ---\n",
    "NetasH = W1 @ X_test.T + b1\n",
    "SalidasH = evaluar(FunH, NetasH)\n",
    "NetasO = W2 @ SalidasH + b2\n",
    "SalidasO = evaluar(FunO, NetasO)\n",
    "\n",
    "Y_pred = np.argmax(SalidasO,axis=0)\n",
    "print(\"%% aciertos X_test : %.3f\\n\" % metrics.accuracy_score(Y_test,Y_pred))\n",
    "\n",
    "report = metrics.classification_report(le.inverse_transform(Y_test),le.inverse_transform(Y_pred))\n",
    "print(\"Confusion matrix Test:\\n%s\" % report) \n",
    "\n",
    "MM = metrics.confusion_matrix(Y_test, Y_pred)\n",
    "print(\"Confusion matrix:\\n%s\" % MM)"
   ]
  },
  {
   "cell_type": "code",
   "execution_count": null,
   "id": "5466d135",
   "metadata": {},
   "outputs": [],
   "source": []
  }
 ],
 "metadata": {
  "kernelspec": {
   "display_name": "Python 3",
   "language": "python",
   "name": "python3"
  },
  "language_info": {
   "codemirror_mode": {
    "name": "ipython",
    "version": 3
   },
   "file_extension": ".py",
   "mimetype": "text/x-python",
   "name": "python",
   "nbconvert_exporter": "python",
   "pygments_lexer": "ipython3",
   "version": "3.8.8"
  }
 },
 "nbformat": 4,
 "nbformat_minor": 5
}
