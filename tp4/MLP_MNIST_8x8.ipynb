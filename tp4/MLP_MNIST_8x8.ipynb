{
 "cells": [
  {
   "cell_type": "code",
   "execution_count": 1,
   "id": "1a76d62d",
   "metadata": {},
   "outputs": [],
   "source": [
    "%matplotlib inline\n",
    "import numpy as np\n",
    "import pandas as pd\n",
    "from sklearn import preprocessing, metrics, model_selection\n",
    "\n",
    "import time\n",
    "#from matplotlib import pyplot as plt\n",
    "from matplotlib import pylab as plt\n",
    "from IPython import display\n",
    "\n",
    "from Funciones import evaluar, evaluarDerivada"
   ]
  },
  {
   "cell_type": "code",
   "execution_count": 2,
   "id": "baec3e63",
   "metadata": {},
   "outputs": [],
   "source": [
    "df_train = pd.read_csv('../Datos/optdigits_train.csv')\n",
    "X_train = np.array(df_train.iloc[:,:-1]).astype(float)\n",
    "Y_train = np.array(df_train.iloc[:,-1])\n",
    "\n",
    "df_test = pd.read_csv('../Datos/optdigits_test.csv')\n",
    "X_test = np.array(df_test.iloc[:,:-1]).astype(float)\n",
    "Y_test = np.array(df_test.iloc[:,-1])"
   ]
  },
  {
   "cell_type": "code",
   "execution_count": 3,
   "id": "2a677ef4",
   "metadata": {},
   "outputs": [
    {
     "name": "stdout",
     "output_type": "stream",
     "text": [
      "entradas = 64 ; salidas = 10\n"
     ]
    }
   ],
   "source": [
    "entradas = X_train.shape[1]\n",
    "ocultas = 15\n",
    "\n",
    "#-- la red tendrá una salida para cada dígito\n",
    "salidas = 10\n",
    "print(\"entradas = %d ; salidas = %d\" % (entradas, salidas))\n",
    "\n",
    "Y_trainB = np.zeros((len(Y_train), salidas))\n",
    "for o in range(len(Y_train)):\n",
    "    Y_trainB[o, Y_train[o]]=1\n",
    "    \n",
    "Y_testB = np.zeros((len(Y_test), salidas))\n",
    "for o in range(len(Y_test)):\n",
    "    Y_testB[o, Y_test[o]]=1"
   ]
  },
  {
   "cell_type": "code",
   "execution_count": 4,
   "id": "2c3fa452",
   "metadata": {},
   "outputs": [],
   "source": [
    "normalizarEntrada = 1  # 1 si normaliza; 0 si no\n",
    "\n",
    "if normalizarEntrada:\n",
    "    # Escala los valores entre 0 y 1\n",
    "    min_max_scaler = preprocessing.StandardScaler()\n",
    "    X_train = min_max_scaler.fit_transform(X_train)\n",
    "    X_test = min_max_scaler.transform(X_test)\n",
    "    "
   ]
  },
  {
   "cell_type": "code",
   "execution_count": 5,
   "id": "b185ed5c",
   "metadata": {},
   "outputs": [],
   "source": [
    "W1 = np.random.uniform(-0.5,0.5,[ocultas, entradas])\n",
    "b1 = np.random.uniform(-0.5,0.5, [ocultas,1])\n",
    "W2 = np.random.uniform(-0.5,0.5,[salidas, ocultas])\n",
    "b2 = np.random.uniform(-0.5,0.5, [salidas,1])"
   ]
  },
  {
   "cell_type": "code",
   "execution_count": 6,
   "id": "077fab97",
   "metadata": {},
   "outputs": [],
   "source": [
    "FunH = 'sigmoid'\n",
    "FunO = 'sigmoid'\n",
    "\n",
    "if (FunO=='tanh'):\n",
    "    Y_trainB = 2*Y_trainB -1\n",
    "    Y_testB  = 2*Y_testB - 1"
   ]
  },
  {
   "cell_type": "code",
   "execution_count": 7,
   "id": "f03168b8",
   "metadata": {},
   "outputs": [],
   "source": [
    "nFilas = X_train.shape[0]\n",
    "\n",
    "alfa = 0.1\n",
    "CotaError = 1.0e-4\n",
    "MAX_ITERA = 400\n",
    "ite = 0\n",
    "errorAnt = 0\n",
    "AVGError = 1\n",
    "errores = []\n",
    "\n",
    "while ( abs(AVGError-errorAnt) > CotaError ) and ( ite < MAX_ITERA ):\n",
    "    errorAnt = AVGError\n",
    "    AVGError = 0\n",
    "    for e in range(nFilas):  #para cada ejemplo\n",
    "\n",
    "        xi = X_train[e:e+1, :]     # ejemplo a ingresar a la red\n",
    "        yi = Y_trainB[e:e+1, :]     # salida esperada para el ejemplo seleccionado\n",
    "        \n",
    "        # propagar el ejemplo hacia adelante\n",
    "        netasH = W1 @ xi.T + b1\n",
    "        salidasH = evaluar(FunH, netasH)\n",
    "        netasO = W2 @ salidasH + b2\n",
    "        salidasO = evaluar(FunO, netasO)\n",
    "\n",
    "        # calcular los errores en ambas capas        \n",
    "        ErrorSalida = yi.T-salidasO\n",
    "        \n",
    "        deltaO = ErrorSalida * evaluarDerivada(FunO,salidasO)\n",
    "        deltaH = evaluarDerivada(FunH,salidasH)*(W2.T @ deltaO)\n",
    "\n",
    "        # corregir todos los pesos      \n",
    "        W1 = W1 + alfa * deltaH @ xi \n",
    "        b1 = b1 + alfa * deltaH \n",
    "        W2 = W2 + alfa * deltaO @ salidasH.T \n",
    "        b2 = b2 + alfa * deltaO \n",
    "\n",
    "        AVGError = AVGError + np.mean(ErrorSalida**2)\n",
    "    \n",
    "    AVGError = AVGError / nFilas\n",
    "    errores.append(AVGError)\n",
    "    \n",
    "    ite = ite + 1\n",
    "   "
   ]
  },
  {
   "cell_type": "code",
   "execution_count": 8,
   "id": "5801b22a",
   "metadata": {},
   "outputs": [
    {
     "data": {
      "image/png": "[encoded data removed]",
      "text/plain": [
       "<Figure size 432x288 with 1 Axes>"
      ]
     },
     "metadata": {
      "needs_background": "light"
     },
     "output_type": "display_data"
    }
   ],
   "source": [
    "plt.plot(range(1, len(errores) + 1), errores, marker='o')\n",
    "plt.xlabel('Iteraciones')\n",
    "plt.ylabel('ECM')\n",
    "plt.show()"
   ]
  },
  {
   "cell_type": "code",
   "execution_count": 9,
   "id": "66af33d6",
   "metadata": {},
   "outputs": [
    {
     "data": {
      "text/plain": [
       "array([[0.983, 0.997, 0.008, 0.008, 0.006],\n",
       "       [0.   , 0.   , 0.001, 0.046, 0.001],\n",
       "       [0.007, 0.004, 0.006, 0.   , 0.001],\n",
       "       [0.   , 0.   , 0.002, 0.   , 0.   ],\n",
       "       [0.042, 0.006, 0.002, 0.819, 0.037],\n",
       "       [0.008, 0.01 , 0.   , 0.   , 0.013],\n",
       "       [0.003, 0.001, 0.   , 0.   , 0.909],\n",
       "       [0.008, 0.012, 0.999, 0.001, 0.   ],\n",
       "       [0.001, 0.   , 0.   , 0.01 , 0.051],\n",
       "       [0.002, 0.001, 0.003, 0.253, 0.   ]])"
      ]
     },
     "execution_count": 9,
     "metadata": {},
     "output_type": "execute_result"
    }
   ],
   "source": [
    "# Respuesta de la red para los datos de ENTRENAMIENTO ---\n",
    "NetasH = W1 @ X_train.T + b1\n",
    "SalidasH = evaluar(FunH, NetasH)\n",
    "NetasO = W2 @ SalidasH + b2\n",
    "SalidasO = evaluar(FunO, NetasO)\n",
    "np.round(SalidasO[:, :5],3)"
   ]
  },
  {
   "cell_type": "code",
   "execution_count": 10,
   "id": "ddb40db5",
   "metadata": {},
   "outputs": [
    {
     "name": "stdout",
     "output_type": "stream",
     "text": [
      "% aciertos X_train : 0.992\n"
     ]
    }
   ],
   "source": [
    "Y_pred = np.argmax(SalidasO,axis=0)\n",
    "print(\"%% aciertos X_train : %.3f\" % metrics.accuracy_score(Y_train,Y_pred))"
   ]
  },
  {
   "cell_type": "code",
   "execution_count": 11,
   "id": "f2c10cb3",
   "metadata": {},
   "outputs": [
    {
     "name": "stdout",
     "output_type": "stream",
     "text": [
      "Confusion matrix Training:\n",
      "              precision    recall  f1-score   support\n",
      "\n",
      "           0       0.99      1.00      1.00       376\n",
      "           1       0.98      0.99      0.99       389\n",
      "           2       1.00      1.00      1.00       380\n",
      "           3       1.00      0.99      0.99       389\n",
      "           4       0.98      0.99      0.99       387\n",
      "           5       0.99      0.99      0.99       376\n",
      "           6       0.99      0.99      0.99       377\n",
      "           7       1.00      1.00      1.00       387\n",
      "           8       0.99      0.98      0.99       380\n",
      "           9       0.99      0.99      0.99       382\n",
      "\n",
      "    accuracy                           0.99      3823\n",
      "   macro avg       0.99      0.99      0.99      3823\n",
      "weighted avg       0.99      0.99      0.99      3823\n",
      "\n"
     ]
    }
   ],
   "source": [
    "report = metrics.classification_report(Y_train,Y_pred)\n",
    "print(\"Confusion matrix Training:\\n%s\" % report) "
   ]
  },
  {
   "cell_type": "code",
   "execution_count": 12,
   "id": "927b150a",
   "metadata": {},
   "outputs": [
    {
     "name": "stdout",
     "output_type": "stream",
     "text": [
      "Confusion matrix:\n",
      "[[376   0   0   0   0   0   0   0   0   0]\n",
      " [  0 385   0   0   2   0   0   0   0   2]\n",
      " [  1   0 379   0   0   0   0   0   0   0]\n",
      " [  0   1   0 386   0   2   0   0   0   0]\n",
      " [  0   0   0   0 385   0   1   0   1   0]\n",
      " [  1   0   0   0   0 372   0   0   0   3]\n",
      " [  0   1   0   0   1   0 374   0   1   0]\n",
      " [  0   0   0   1   0   0   0 386   0   0]\n",
      " [  0   2   0   0   2   2   1   0 373   0]\n",
      " [  1   2   0   0   1   0   0   0   1 377]]\n"
     ]
    }
   ],
   "source": [
    "MM = metrics.confusion_matrix(Y_train,Y_pred)\n",
    "print(\"Confusion matrix:\\n%s\" % MM)"
   ]
  },
  {
   "cell_type": "code",
   "execution_count": 13,
   "id": "cbc7cd9a",
   "metadata": {},
   "outputs": [
    {
     "name": "stdout",
     "output_type": "stream",
     "text": [
      "% aciertos X_test : 0.958\n",
      "\n",
      "Confusion matrix Test:\n",
      "              precision    recall  f1-score   support\n",
      "\n",
      "           0       0.98      0.99      0.99       178\n",
      "           1       0.93      0.99      0.96       182\n",
      "           2       0.97      0.95      0.96       177\n",
      "           3       0.99      0.95      0.97       183\n",
      "           4       0.98      0.98      0.98       181\n",
      "           5       0.92      0.97      0.94       182\n",
      "           6       0.99      0.98      0.99       181\n",
      "           7       0.98      0.94      0.96       179\n",
      "           8       0.96      0.87      0.91       174\n",
      "           9       0.90      0.96      0.93       180\n",
      "\n",
      "    accuracy                           0.96      1797\n",
      "   macro avg       0.96      0.96      0.96      1797\n",
      "weighted avg       0.96      0.96      0.96      1797\n",
      "\n",
      "Confusion matrix:\n",
      "[[177   0   0   0   0   1   0   0   0   0]\n",
      " [  0 180   0   0   0   0   0   0   1   1]\n",
      " [  1   6 168   0   0   0   0   2   0   0]\n",
      " [  1   0   5 173   0   2   0   0   0   2]\n",
      " [  0   0   0   0 177   0   0   0   2   2]\n",
      " [  1   0   0   1   0 177   0   0   0   3]\n",
      " [  0   1   0   0   2   0 178   0   0   0]\n",
      " [  0   0   0   0   1   6   0 168   0   4]\n",
      " [  0   7   0   1   1   5   2   0 151   7]\n",
      " [  0   0   1   0   0   2   0   1   3 173]]\n"
     ]
    }
   ],
   "source": [
    "# -- TESTING ---\n",
    "NetasH = W1 @ X_test.T + b1\n",
    "SalidasH = evaluar(FunH, NetasH)\n",
    "NetasO = W2 @ SalidasH + b2\n",
    "SalidasO = evaluar(FunO, NetasO)\n",
    "\n",
    "Y_pred = np.argmax(SalidasO,axis=0)\n",
    "print(\"%% aciertos X_test : %.3f\\n\" % metrics.accuracy_score(Y_test,Y_pred))\n",
    "\n",
    "report = metrics.classification_report(Y_test, Y_pred)\n",
    "print(\"Confusion matrix Test:\\n%s\" % report) \n",
    "\n",
    "MM = metrics.confusion_matrix(Y_test, Y_pred)\n",
    "print(\"Confusion matrix:\\n%s\" % MM)"
   ]
  },
  {
   "cell_type": "code",
   "execution_count": null,
   "id": "5466d135",
   "metadata": {},
   "outputs": [],
   "source": []
  }
 ],
 "metadata": {
  "kernelspec": {
   "display_name": "Python 3",
   "language": "python",
   "name": "python3"
  },
  "language_info": {
   "codemirror_mode": {
    "name": "ipython",
    "version": 3
   },
   "file_extension": ".py",
   "mimetype": "text/x-python",
   "name": "python",
   "nbconvert_exporter": "python",
   "pygments_lexer": "ipython3",
   "version": "3.8.8"
  }
 },
 "nbformat": 4,
 "nbformat_minor": 5
}
